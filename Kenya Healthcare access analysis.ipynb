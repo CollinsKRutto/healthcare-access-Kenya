{
  "nbformat": 4,
  "nbformat_minor": 0,
  "metadata": {
    "colab": {
      "provenance": [],
      "authorship_tag": "ABX9TyN2EA4iMFSlOQRh64nOdxMI",
      "include_colab_link": true
    },
    "kernelspec": {
      "name": "python3",
      "display_name": "Python 3"
    },
    "language_info": {
      "name": "python"
    }
  },
  "cells": [
    {
      "cell_type": "markdown",
      "metadata": {
        "id": "view-in-github",
        "colab_type": "text"
      },
      "source": [
        "<a href=\"https://colab.research.google.com/github/CollinsKRutto/healthcare-access-Kenya/blob/main/Kenya%20Healthcare%20access%20analysis.ipynb\" target=\"_parent\"><img src=\"https://colab.research.google.com/assets/colab-badge.svg\" alt=\"Open In Colab\"/></a>"
      ]
    },
    {
      "cell_type": "code",
      "execution_count": 2,
      "metadata": {
        "colab": {
          "base_uri": "https://localhost:8080/",
          "height": 0
        },
        "id": "PXB2q_a6b0Mo",
        "outputId": "6856e62e-91af-4ef2-960d-4790117ab2ec"
      },
      "outputs": [
        {
          "output_type": "stream",
          "name": "stdout",
          "text": [
            "           County  Population  Facility-Count\n",
            "0         MOMBASA     1208333             306\n",
            "1           KWALE      866820             120\n",
            "2          KILIFI     1453787             253\n",
            "3      TANA RIVER      315943              58\n",
            "4            LAMU      143920              46\n"
          ]
        }
      ],
      "source": [
        "import pandas as pd\n",
        "\n",
        "# Load the second sheet of the Excel file\n",
        "file_path = 'Kenya_Healthcare_Regression.xlsx'\n",
        "df = pd.read_excel(file_path, sheet_name=1)\n",
        "\n",
        "# Display the first few rows\n",
        "print(df.head())\n",
        "\n"
      ]
    },
    {
      "cell_type": "code",
      "source": [
        "# Summary info\n",
        "print(df.info())\n",
        "\n",
        "# Check for missing values\n",
        "print(df.isnull().sum())\n"
      ],
      "metadata": {
        "colab": {
          "base_uri": "https://localhost:8080/",
          "height": 0
        },
        "id": "veGltv6AcF-X",
        "outputId": "6ac4b20d-c3c0-4fa0-b9c2-4c98e3af8e7f"
      },
      "execution_count": 3,
      "outputs": [
        {
          "output_type": "stream",
          "name": "stdout",
          "text": [
            "<class 'pandas.core.frame.DataFrame'>\n",
            "RangeIndex: 47 entries, 0 to 46\n",
            "Data columns (total 3 columns):\n",
            " #   Column          Non-Null Count  Dtype \n",
            "---  ------          --------------  ----- \n",
            " 0   County          47 non-null     object\n",
            " 1   Population      47 non-null     int64 \n",
            " 2   Facility-Count  47 non-null     int64 \n",
            "dtypes: int64(2), object(1)\n",
            "memory usage: 1.2+ KB\n",
            "None\n",
            "County            0\n",
            "Population        0\n",
            "Facility-Count    0\n",
            "dtype: int64\n"
          ]
        }
      ]
    },
    {
      "cell_type": "code",
      "source": [
        "# Example: Renaming columns\n",
        "df.rename(columns={\n",
        "    'County Name': 'County',\n",
        "    'Population 2019': 'Population',\n",
        "    'Facility-Count': 'Facility_Count'\n",
        "}, inplace=True)"
      ],
      "metadata": {
        "id": "aGFPzNcecSz6"
      },
      "execution_count": 7,
      "outputs": []
    },
    {
      "cell_type": "code",
      "source": [
        "import statsmodels.api as sm\n",
        "\n",
        "# Define X and y\n",
        "X = df['Population']\n",
        "y = df['Facility_Count']\n",
        "\n",
        "# Add constant (intercept)\n",
        "X = sm.add_constant(X)\n",
        "\n",
        "# Fit the regression model\n",
        "model = sm.OLS(y, X).fit()\n",
        "\n",
        "# Show the regression summary\n",
        "display(model.summary())"
      ],
      "metadata": {
        "colab": {
          "base_uri": "https://localhost:8080/",
          "height": 486
        },
        "id": "fRiJBcd2dKCW",
        "outputId": "246b627e-4b19-4589-c817-da854344e62d"
      },
      "execution_count": 8,
      "outputs": [
        {
          "output_type": "display_data",
          "data": {
            "text/plain": [
              "<class 'statsmodels.iolib.summary.Summary'>\n",
              "\"\"\"\n",
              "                            OLS Regression Results                            \n",
              "==============================================================================\n",
              "Dep. Variable:         Facility_Count   R-squared:                       0.760\n",
              "Model:                            OLS   Adj. R-squared:                  0.754\n",
              "Method:                 Least Squares   F-statistic:                     142.2\n",
              "Date:                Thu, 31 Jul 2025   Prob (F-statistic):           1.59e-15\n",
              "Time:                        12:30:09   Log-Likelihood:                -266.88\n",
              "No. Observations:                  47   AIC:                             537.8\n",
              "Df Residuals:                      45   BIC:                             541.5\n",
              "Df Model:                           1                                         \n",
              "Covariance Type:            nonrobust                                         \n",
              "==============================================================================\n",
              "                 coef    std err          t      P>|t|      [0.025      0.975]\n",
              "------------------------------------------------------------------------------\n",
              "const         27.4145     18.804      1.458      0.152     -10.460      65.289\n",
              "Population     0.0002   1.54e-05     11.925      0.000       0.000       0.000\n",
              "==============================================================================\n",
              "Omnibus:                       13.779   Durbin-Watson:                   1.228\n",
              "Prob(Omnibus):                  0.001   Jarque-Bera (JB):               17.338\n",
              "Skew:                           0.986   Prob(JB):                     0.000172\n",
              "Kurtosis:                       5.228   Cond. No.                     2.18e+06\n",
              "==============================================================================\n",
              "\n",
              "Notes:\n",
              "[1] Standard Errors assume that the covariance matrix of the errors is correctly specified.\n",
              "[2] The condition number is large, 2.18e+06. This might indicate that there are\n",
              "strong multicollinearity or other numerical problems.\n",
              "\"\"\""
            ],
            "text/html": [
              "<table class=\"simpletable\">\n",
              "<caption>OLS Regression Results</caption>\n",
              "<tr>\n",
              "  <th>Dep. Variable:</th>     <td>Facility_Count</td>  <th>  R-squared:         </th> <td>   0.760</td>\n",
              "</tr>\n",
              "<tr>\n",
              "  <th>Model:</th>                   <td>OLS</td>       <th>  Adj. R-squared:    </th> <td>   0.754</td>\n",
              "</tr>\n",
              "<tr>\n",
              "  <th>Method:</th>             <td>Least Squares</td>  <th>  F-statistic:       </th> <td>   142.2</td>\n",
              "</tr>\n",
              "<tr>\n",
              "  <th>Date:</th>             <td>Thu, 31 Jul 2025</td> <th>  Prob (F-statistic):</th> <td>1.59e-15</td>\n",
              "</tr>\n",
              "<tr>\n",
              "  <th>Time:</th>                 <td>12:30:09</td>     <th>  Log-Likelihood:    </th> <td> -266.88</td>\n",
              "</tr>\n",
              "<tr>\n",
              "  <th>No. Observations:</th>      <td>    47</td>      <th>  AIC:               </th> <td>   537.8</td>\n",
              "</tr>\n",
              "<tr>\n",
              "  <th>Df Residuals:</th>          <td>    45</td>      <th>  BIC:               </th> <td>   541.5</td>\n",
              "</tr>\n",
              "<tr>\n",
              "  <th>Df Model:</th>              <td>     1</td>      <th>                     </th>     <td> </td>   \n",
              "</tr>\n",
              "<tr>\n",
              "  <th>Covariance Type:</th>      <td>nonrobust</td>    <th>                     </th>     <td> </td>   \n",
              "</tr>\n",
              "</table>\n",
              "<table class=\"simpletable\">\n",
              "<tr>\n",
              "       <td></td>         <th>coef</th>     <th>std err</th>      <th>t</th>      <th>P>|t|</th>  <th>[0.025</th>    <th>0.975]</th>  \n",
              "</tr>\n",
              "<tr>\n",
              "  <th>const</th>      <td>   27.4145</td> <td>   18.804</td> <td>    1.458</td> <td> 0.152</td> <td>  -10.460</td> <td>   65.289</td>\n",
              "</tr>\n",
              "<tr>\n",
              "  <th>Population</th> <td>    0.0002</td> <td> 1.54e-05</td> <td>   11.925</td> <td> 0.000</td> <td>    0.000</td> <td>    0.000</td>\n",
              "</tr>\n",
              "</table>\n",
              "<table class=\"simpletable\">\n",
              "<tr>\n",
              "  <th>Omnibus:</th>       <td>13.779</td> <th>  Durbin-Watson:     </th> <td>   1.228</td>\n",
              "</tr>\n",
              "<tr>\n",
              "  <th>Prob(Omnibus):</th> <td> 0.001</td> <th>  Jarque-Bera (JB):  </th> <td>  17.338</td>\n",
              "</tr>\n",
              "<tr>\n",
              "  <th>Skew:</th>          <td> 0.986</td> <th>  Prob(JB):          </th> <td>0.000172</td>\n",
              "</tr>\n",
              "<tr>\n",
              "  <th>Kurtosis:</th>      <td> 5.228</td> <th>  Cond. No.          </th> <td>2.18e+06</td>\n",
              "</tr>\n",
              "</table><br/><br/>Notes:<br/>[1] Standard Errors assume that the covariance matrix of the errors is correctly specified.<br/>[2] The condition number is large, 2.18e+06. This might indicate that there are<br/>strong multicollinearity or other numerical problems."
            ],
            "text/latex": "\\begin{center}\n\\begin{tabular}{lclc}\n\\toprule\n\\textbf{Dep. Variable:}    & Facility\\_Count  & \\textbf{  R-squared:         } &     0.760   \\\\\n\\textbf{Model:}            &       OLS        & \\textbf{  Adj. R-squared:    } &     0.754   \\\\\n\\textbf{Method:}           &  Least Squares   & \\textbf{  F-statistic:       } &     142.2   \\\\\n\\textbf{Date:}             & Thu, 31 Jul 2025 & \\textbf{  Prob (F-statistic):} &  1.59e-15   \\\\\n\\textbf{Time:}             &     12:30:09     & \\textbf{  Log-Likelihood:    } &   -266.88   \\\\\n\\textbf{No. Observations:} &          47      & \\textbf{  AIC:               } &     537.8   \\\\\n\\textbf{Df Residuals:}     &          45      & \\textbf{  BIC:               } &     541.5   \\\\\n\\textbf{Df Model:}         &           1      & \\textbf{                     } &             \\\\\n\\textbf{Covariance Type:}  &    nonrobust     & \\textbf{                     } &             \\\\\n\\bottomrule\n\\end{tabular}\n\\begin{tabular}{lcccccc}\n                    & \\textbf{coef} & \\textbf{std err} & \\textbf{t} & \\textbf{P$> |$t$|$} & \\textbf{[0.025} & \\textbf{0.975]}  \\\\\n\\midrule\n\\textbf{const}      &      27.4145  &       18.804     &     1.458  &         0.152        &      -10.460    &       65.289     \\\\\n\\textbf{Population} &       0.0002  &     1.54e-05     &    11.925  &         0.000        &        0.000    &        0.000     \\\\\n\\bottomrule\n\\end{tabular}\n\\begin{tabular}{lclc}\n\\textbf{Omnibus:}       & 13.779 & \\textbf{  Durbin-Watson:     } &    1.228  \\\\\n\\textbf{Prob(Omnibus):} &  0.001 & \\textbf{  Jarque-Bera (JB):  } &   17.338  \\\\\n\\textbf{Skew:}          &  0.986 & \\textbf{  Prob(JB):          } & 0.000172  \\\\\n\\textbf{Kurtosis:}      &  5.228 & \\textbf{  Cond. No.          } & 2.18e+06  \\\\\n\\bottomrule\n\\end{tabular}\n%\\caption{OLS Regression Results}\n\\end{center}\n\nNotes: \\newline\n [1] Standard Errors assume that the covariance matrix of the errors is correctly specified. \\newline\n [2] The condition number is large, 2.18e+06. This might indicate that there are \\newline\n strong multicollinearity or other numerical problems."
          },
          "metadata": {}
        }
      ]
    },
    {
      "cell_type": "code",
      "source": [
        "import matplotlib.pyplot as plt\n",
        "import seaborn as sns\n",
        "\n",
        "# Scatter plot with regression line\n",
        "sns.regplot(x='Population', y='Facility_Count', data=df, line_kws={\"color\": \"red\"})\n",
        "\n",
        "plt.title('Healthcare Facility Count vs Population')\n",
        "plt.xlabel('Population')\n",
        "plt.ylabel('Facility Count')\n",
        "plt.tight_layout()\n",
        "plt.show()\n"
      ],
      "metadata": {
        "colab": {
          "base_uri": "https://localhost:8080/",
          "height": 487
        },
        "id": "-7p0UPtjfWmC",
        "outputId": "ea3274c5-7428-4eee-aaf1-a7517ab30326"
      },
      "execution_count": 9,
      "outputs": [
        {
          "output_type": "display_data",
          "data": {
            "text/plain": [
              "<Figure size 640x480 with 1 Axes>"
            ],
            "image/png": "[encoded data removed]"
          },
          "metadata": {}
        }
      ]
    },
    {
      "cell_type": "code",
      "source": [
        "# Save the figure\n",
        "plt.savefig(\"regression_plot.png\")\n",
        "\n",
        "# Save a simple summary to text\n",
        "with open('regression_summary.txt', 'w') as f:\n",
        "    f.write(model.summary().as_text())\n"
      ],
      "metadata": {
        "colab": {
          "base_uri": "https://localhost:8080/",
          "height": 34
        },
        "id": "Fj32iCI0fd28",
        "outputId": "2116068c-8ef8-443c-8dba-74df3b11c9d8"
      },
      "execution_count": 10,
      "outputs": [
        {
          "output_type": "display_data",
          "data": {
            "text/plain": [
              "<Figure size 640x480 with 0 Axes>"
            ]
          },
          "metadata": {}
        }
      ]
    }
  ]
}